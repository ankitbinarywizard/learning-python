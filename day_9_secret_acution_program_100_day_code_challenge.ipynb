{
 "cells": [
  {
   "cell_type": "code",
   "execution_count": 22,
   "id": "bb17eaa0",
   "metadata": {},
   "outputs": [
    {
     "name": "stdout",
     "output_type": "stream",
     "text": [
      "\n",
      "                         ___________\n",
      "                         \\         /\n",
      "                          )_______(\n",
      "                          |\"\"\"\"\"\"\"|_.-._,.---------.,_.-._\n",
      "                          |       | | |               | | ''-.\n",
      "                          |       |_| |_             _| |_..-'\n",
      "                          |_______| '-' `'---------'` '-'\n",
      "                          )\"\"\"\"\"\"\"(\n",
      "                         /_________\\\n",
      "                       .-------------.\n",
      "                      /_______________\\\n",
      "\n",
      "Welcome to secret auction!\n",
      "What is your name? Ankit\n",
      "Provide your bid. $100\n",
      "Is there any other bidder? Yes\n",
      "What is your name? Neha\n",
      "Provide your bid. $999\n",
      "Is there any other bidder? Yes\n",
      "What is your name? Shilpi\n",
      "Provide your bid. $45\n",
      "Is there any other bidder? No\n",
      "The winner is Neha with a bid of $999.\n"
     ]
    }
   ],
   "source": [
    "import os\n",
    "print('''\n",
    "                         ___________\n",
    "                         \\         /\n",
    "                          )_______(\n",
    "                          |\"\"\"\"\"\"\"|_.-._,.---------.,_.-._\n",
    "                          |       | | |               | | ''-.\n",
    "                          |       |_| |_             _| |_..-'\n",
    "                          |_______| '-' `'---------'` '-'\n",
    "                          )\"\"\"\"\"\"\"(\n",
    "                         /_________\\\\\n",
    "                       .-------------.\n",
    "                      /_______________\\\\\n",
    "''')\n",
    "print(\"Welcome to secret auction!\")\n",
    "def clear_screen():\n",
    "    os.system('cls' if os.name == 'nt' else 'clear')\n",
    "secret_auction = {}\n",
    "while True:\n",
    "    name = input(\"What is your name? \")\n",
    "    bid = int(input(\"Provide your bid. $\"))\n",
    "    secret_auction[name] = bid\n",
    "    another_bidder = input(\"Is there any other bidder? \").lower()\n",
    "    if another_bidder == \"yes\": \n",
    "        clear_screen()\n",
    "    else:\n",
    "        break\n",
    "max_bid = 0\n",
    "winner = \"\"\n",
    "for bid in secret_auction:\n",
    "    if secret_auction[bid] > max_bid:\n",
    "        max_bid = secret_auction[bid]\n",
    "        winner = bid\n",
    "print(f\"The winner is {winner} with a bid of ${max_bid}.\")"
   ]
  },
  {
   "cell_type": "code",
   "execution_count": null,
   "id": "19e08a11",
   "metadata": {},
   "outputs": [],
   "source": []
  }
 ],
 "metadata": {
  "kernelspec": {
   "display_name": "Python 3 (ipykernel)",
   "language": "python",
   "name": "python3"
  },
  "language_info": {
   "codemirror_mode": {
    "name": "ipython",
    "version": 3
   },
   "file_extension": ".py",
   "mimetype": "text/x-python",
   "name": "python",
   "nbconvert_exporter": "python",
   "pygments_lexer": "ipython3",
   "version": "3.10.9"
  }
 },
 "nbformat": 4,
 "nbformat_minor": 5
}
