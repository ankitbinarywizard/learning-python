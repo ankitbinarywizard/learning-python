{
 "cells": [
  {
   "cell_type": "code",
   "execution_count": null,
   "id": "40e8745a",
   "metadata": {},
   "outputs": [
    {
     "name": "stdout",
     "output_type": "stream",
     "text": [
      "Welcome to the tip calculator.\n"
     ]
    }
   ],
   "source": [
    "print(\"Welcome to the tip calculator.\")\n",
    "total_before_tip = float(input(\"What was the total bill? $\"))\n",
    "nos_of_person = float(input(\"How many people to split the bill? \"))\n",
    "tip_percent = float(input(\"What percentage tip would you like to give? 10, 12, or 15? \"))\n",
    "bill_per_person = format(float((total_before_tip + (total_before_tip*tip_percent/100))/nos_of_person),\".2f\")\n",
    "print(\"Each person should pay: ${}\".format(bill_per_person))"
   ]
  },
  {
   "cell_type": "code",
   "execution_count": null,
   "id": "8b33d7fc",
   "metadata": {},
   "outputs": [],
   "source": []
  }
 ],
 "metadata": {
  "kernelspec": {
   "display_name": "Python 3 (ipykernel)",
   "language": "python",
   "name": "python3"
  },
  "language_info": {
   "codemirror_mode": {
    "name": "ipython",
    "version": 3
   },
   "file_extension": ".py",
   "mimetype": "text/x-python",
   "name": "python",
   "nbconvert_exporter": "python",
   "pygments_lexer": "ipython3",
   "version": "3.10.9"
  }
 },
 "nbformat": 4,
 "nbformat_minor": 5
}
