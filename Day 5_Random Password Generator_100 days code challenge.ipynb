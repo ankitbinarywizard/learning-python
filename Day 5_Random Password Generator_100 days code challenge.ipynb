{
 "cells": [
  {
   "cell_type": "code",
   "execution_count": 39,
   "id": "7f3d6ba1",
   "metadata": {},
   "outputs": [
    {
     "name": "stdout",
     "output_type": "stream",
     "text": [
      "Welcome to the PyPassword Generator!\n",
      "How many letters would you like in your password?\n",
      "5\n",
      "How many symbols would you like?\n",
      "6\n",
      "How many numbers would you like?\n",
      "7\n",
      "Here is your password: 6&9fQ8i)19&Q)*9)A5\n"
     ]
    }
   ],
   "source": [
    "import random\n",
    "letters = ['a', 'b', 'c', 'd', 'e', 'f', 'g', 'h', 'i', 'j', 'k', 'l', 'm', 'n', 'o', 'p', 'q', 'r', 's', 't', 'u', 'v', 'w', 'x', 'y', 'z', 'A', 'B', 'C', 'D', 'E', 'F', 'G', 'H', 'I', 'J', 'K', 'L', 'M', 'N', 'O', 'P', 'Q', 'R', 'S', 'T', 'U', 'V', 'W', 'X', 'Y', 'Z']\n",
    "numbers = ['0', '1', '2', '3', '4', '5', '6', '7', '8', '9']\n",
    "symbols = ['!', '#', '$', '%', '&', '(', ')', '*', '+']\n",
    "\n",
    "print(\"Welcome to the PyPassword Generator!\")\n",
    "nr_letters= int(input(\"How many letters would you like in your password?\\n\")) \n",
    "nr_symbols = int(input(f\"How many symbols would you like?\\n\"))\n",
    "nr_numbers = int(input(f\"How many numbers would you like?\\n\"))\n",
    "letters_sample = ''\n",
    "letters_pswd = ''\n",
    "numbers_sample = ''\n",
    "numbers_pswd = ''\n",
    "symbols_sample = ''\n",
    "symbols_pswd = ''\n",
    "\n",
    "for alph in letters: \n",
    "    letters_sample += alph\n",
    "for alph2 in range(1, nr_letters + 1):\n",
    "    letters_pswd += letters_sample[random.randint(0,len(letters_sample)-1)]\n",
    "for sym in symbols: \n",
    "    symbols_sample += sym\n",
    "for sym2 in range(1, nr_symbols + 1):\n",
    "    symbols_pswd += symbols_sample[random.randint(0,len(symbols_sample)-1)]\n",
    "for num in numbers: \n",
    "    numbers_sample += num\n",
    "for num2 in range(1, nr_numbers + 1):\n",
    "    numbers_pswd += numbers_sample[random.randint(0,len(numbers_sample)-1)]\n",
    "    \n",
    "base_pswd = letters_pswd + symbols_pswd + numbers_pswd\n",
    "base_pswd_list = list(base_pswd)\n",
    "final_pswd_list = random.sample(base_pswd_list,len(base_pswd_list))\n",
    "final_pswd = ''.join(final_pswd_list)\n",
    "print(\"Here is your password: \" + final_pswd)"
   ]
  },
  {
   "cell_type": "code",
   "execution_count": null,
   "id": "36dfd402",
   "metadata": {},
   "outputs": [],
   "source": []
  },
  {
   "cell_type": "code",
   "execution_count": null,
   "id": "1c8d76ce",
   "metadata": {},
   "outputs": [],
   "source": []
  },
  {
   "cell_type": "code",
   "execution_count": null,
   "id": "2f352d8d",
   "metadata": {},
   "outputs": [],
   "source": []
  }
 ],
 "metadata": {
  "kernelspec": {
   "display_name": "Python 3 (ipykernel)",
   "language": "python",
   "name": "python3"
  },
  "language_info": {
   "codemirror_mode": {
    "name": "ipython",
    "version": 3
   },
   "file_extension": ".py",
   "mimetype": "text/x-python",
   "name": "python",
   "nbconvert_exporter": "python",
   "pygments_lexer": "ipython3",
   "version": "3.10.9"
  }
 },
 "nbformat": 4,
 "nbformat_minor": 5
}
